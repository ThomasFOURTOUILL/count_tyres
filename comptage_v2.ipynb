{
 "cells": [
  {
   "cell_type": "code",
   "execution_count": null,
   "id": "202aea5a",
   "metadata": {},
   "outputs": [
    {
     "name": "stdout",
     "output_type": "stream",
     "text": [
      "❌ Erreur : impossible d’ouvrir la caméra.\n",
      "Appuyez sur Q pour quitter...\n"
     ]
    },
    {
     "name": "stderr",
     "output_type": "stream",
     "text": [
      "[ WARN:0@2.286] global cap_v4l.cpp:913 open VIDEOIO(V4L2:/dev/video0): can't open camera by index\n",
      "[ERROR:0@2.286] global obsensor_uvc_stream_channel.cpp:158 getStreamChannelGroup Camera index out of range\n"
     ]
    },
    {
     "ename": "",
     "evalue": "",
     "output_type": "error",
     "traceback": [
      "\u001b[1;31mThe Kernel crashed while executing code in the current cell or a previous cell. \n",
      "\u001b[1;31mPlease review the code in the cell(s) to identify a possible cause of the failure. \n",
      "\u001b[1;31mClick <a href='https://aka.ms/vscodeJupyterKernelCrash'>here</a> for more info. \n",
      "\u001b[1;31mView Jupyter <a href='command:jupyter.viewOutput'>log</a> for further details."
     ]
    }
   ],
   "source": [
    "from ultralytics import YOLO\n",
    "import cv2\n",
    "import os\n",
    "import csv\n",
    "from datetime import datetime\n",
    "\n",
    "# Charger ton modèle YOLOv11\n",
    "# Tu peux mettre \"yolov11.pt\" ou ton modèle personnalisé \"runs/detect/train/weights/best.pt\"\n",
    "model = YOLO(\"yolo11l.pt\")  # cf. table des modèles dispo dans le readme\n",
    "\n",
    "# Création du dossier de sortie\n",
    "output_dir = \"data/detections\"\n",
    "os.makedirs(output_dir, exist_ok=True)\n",
    "\n",
    "# Fichier CSV de comptage\n",
    "csv_file = os.path.join(output_dir, \"comptage_pneus.csv\")\n",
    "if not os.path.exists(csv_file):\n",
    "    with open(csv_file, \"w\", newline=\"\") as f:\n",
    "        writer = csv.writer(f)\n",
    "        writer.writerow([\"datetime\", \"nb_pneus_detectes\", \"nom_image\"])\n",
    "\n",
    "# Ouvrir la webcam (0 pour la caméra principale)\n",
    "cap = cv2.VideoCapture(0)\n",
    "\n",
    "if not cap.isOpened():\n",
    "    print(\"❌ Erreur : impossible d’ouvrir la caméra.\")\n",
    "    exit()\n",
    "\n",
    "print(\"Appuyez sur Q pour quitter...\")\n",
    "\n",
    "# Boucle de capture\n",
    "while True:\n",
    "    ret, frame = cap.read()\n",
    "    if not ret:\n",
    "        break\n",
    "\n",
    "    # Lancer la détection avec le mode tracking activé\n",
    "    results = model.track(frame, persist=True, verbose=False)\n",
    "\n",
    "    pneu_count = 0\n",
    "\n",
    "    # Parcourir les résultats pour tracer les cadres\n",
    "    for result in results:\n",
    "        boxes = result.boxes\n",
    "        if boxes is not None:\n",
    "            for box in boxes:\n",
    "                cls = int(box.cls[0])\n",
    "                label = model.names[cls]\n",
    "                if \"pneu\" in label.lower() or \"tire\" in label.lower():\n",
    "                # if label.lower() == \"pneu\":  # à utiliser si on entraine son propre modèle avec une classe \"pneu\"\n",
    "                    pneu_count += 1\n",
    "                    # Récupérer coordonnées\n",
    "                    x1, y1, x2, y2 = map(int, box.xyxy[0])\n",
    "                    track_id = int(box.id[0]) if box.id is not None else 0\n",
    "\n",
    "                    # Dessiner le cadre et l'ID sur l'image\n",
    "                    cv2.rectangle(frame, (x1, y1), (x2, y2), (0, 255, 0), 2)\n",
    "                    cv2.putText(frame, f\"{label} #{track_id}\", (x1, y1 - 10),\n",
    "                                cv2.FONT_HERSHEY_SIMPLEX, 0.6, (255, 255, 255), 2)\n",
    "\n",
    "    # Afficher le nombre de pneus détectés\n",
    "    cv2.putText(frame, f\"Pneus détectés: {pneu_count}\", (20, 40),\n",
    "                cv2.FONT_HERSHEY_SIMPLEX, 1, (0, 255, 255), 2)\n",
    "\n",
    "    # Montrer la vidéo avec détection\n",
    "    cv2.imshow(\"YOLO11 - Comptage & Tracking pneus\", frame)\n",
    "\n",
    "    # Sauvegarde image + log CSV\n",
    "    timestamp = datetime.now().strftime(\"%Y%m%d_%H%M%S\")\n",
    "    img_name = f\"{timestamp}.jpg\"\n",
    "    img_path = os.path.join(output_dir, img_name)\n",
    "    cv2.imwrite(img_path, frame)\n",
    "\n",
    "    with open(csv_file, \"a\", newline=\"\") as f:\n",
    "        writer = csv.writer(f)\n",
    "        writer.writerow([timestamp, pneu_count, img_name])\n",
    "\n",
    "    # Sortir avec Q\n",
    "    if cv2.waitKey(1) & 0xFF == ord(\"q\"):\n",
    "        break\n",
    "\n",
    "cap.release()\n",
    "cv2.destroyAllWindows()"
   ]
  }
 ],
 "metadata": {
  "kernelspec": {
   "display_name": "comptage-pneu",
   "language": "python",
   "name": "python3"
  },
  "language_info": {
   "codemirror_mode": {
    "name": "ipython",
    "version": 3
   },
   "file_extension": ".py",
   "mimetype": "text/x-python",
   "name": "python",
   "nbconvert_exporter": "python",
   "pygments_lexer": "ipython3",
   "version": "3.11.13"
  }
 },
 "nbformat": 4,
 "nbformat_minor": 5
}
